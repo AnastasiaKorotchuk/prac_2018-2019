{
 "cells": [
  {
   "cell_type": "code",
   "execution_count": 1,
   "metadata": {},
   "outputs": [
    {
     "name": "stdout",
     "output_type": "stream",
     "text": [
      "4.870967741935484\n",
      "[0.0, 0.1290322580645161, 0.09677419354838705, 0.435483870967742, 0.3387096774193548, 0.0]\n",
      "[0.0, 0.0, 0.6908602150537635, 0.14516129032258057, 0.1478494623655914, 0.01612903225806453]\n"
     ]
    }
   ],
   "source": [
    "import pprint\n",
    "from scipy.optimize import linprog\n",
    "import numpy as np\n",
    "\n",
    "def nash_equilibrium(a):\n",
    "    numrows = len(a)\n",
    "    numcols = len(a[0])\n",
    "\n",
    "    c1 = [1] * numrows\n",
    "    c2 = [-1] * numcols\n",
    "\n",
    "    A2 = np.asarray(a)\n",
    "    A1 = -1 * np.asarray(A2.transpose())\n",
    "\n",
    "    b1 = [-1] * numcols\n",
    "    b2 = [1] * numrows\n",
    "\n",
    "    res1 = linprog(c1, A_ub=A1, b_ub=b1)\n",
    "    res2 = linprog(c2, A_ub=A2, b_ub=b2)\n",
    "\n",
    "    v = 1/res1.fun\n",
    "    print(v)\n",
    "\n",
    "    p = [1] * numrows\n",
    "    q = [1] * numcols\n",
    "\n",
    "    p = res1.x * v\n",
    "    q = res2.x * v\n",
    "\n",
    "    print(p.tolist())\n",
    "    print(q.tolist())\n",
    "\n",
    "\n",
    "\n",
    "matrix = open('matrix.txt').read()\n",
    "matrix = [item.split() for item in matrix.split('\\n')[:-1]]\n",
    "\n",
    "for i in range(len(matrix)):\n",
    "    for j in range(len(matrix[0])):\n",
    "        matrix[i][j] = int(matrix[i][j])\n",
    "\n",
    "nash_equilibrium(matrix)\n"
   ]
  },
  {
   "cell_type": "code",
   "execution_count": 2,
   "metadata": {},
   "outputs": [
    {
     "ename": "NameError",
     "evalue": "name 'p' is not defined",
     "output_type": "error",
     "traceback": [
      "\u001b[0;31m---------------------------------------------------------------------------\u001b[0m",
      "\u001b[0;31mNameError\u001b[0m                                 Traceback (most recent call last)",
      "\u001b[0;32m<ipython-input-2-0cee6739df90>\u001b[0m in \u001b[0;36m<module>\u001b[0;34m()\u001b[0m\n\u001b[1;32m      4\u001b[0m \u001b[0;31m#ax1 = fig.add_subplot(515)\u001b[0m\u001b[0;34m\u001b[0m\u001b[0;34m\u001b[0m\u001b[0m\n\u001b[1;32m      5\u001b[0m \u001b[0;31m#plt.scatter(1.0, 1.0)\u001b[0m\u001b[0;34m\u001b[0m\u001b[0;34m\u001b[0m\u001b[0m\n\u001b[0;32m----> 6\u001b[0;31m \u001b[0mn\u001b[0m \u001b[0;34m=\u001b[0m \u001b[0mnp\u001b[0m\u001b[0;34m.\u001b[0m\u001b[0marange\u001b[0m\u001b[0;34m(\u001b[0m\u001b[0;36m1\u001b[0m\u001b[0;34m,\u001b[0m \u001b[0mlen\u001b[0m\u001b[0;34m(\u001b[0m\u001b[0mp\u001b[0m\u001b[0;34m)\u001b[0m\u001b[0;34m)\u001b[0m\u001b[0;34m\u001b[0m\u001b[0m\n\u001b[0m\u001b[1;32m      7\u001b[0m \u001b[0;31m#plt.plot(p)\u001b[0m\u001b[0;34m\u001b[0m\u001b[0;34m\u001b[0m\u001b[0m\n",
      "\u001b[0;31mNameError\u001b[0m: name 'p' is not defined"
     ]
    },
    {
     "data": {
      "text/plain": [
       "<Figure size 432x288 with 0 Axes>"
      ]
     },
     "metadata": {},
     "output_type": "display_data"
    }
   ],
   "source": [
    "import matplotlib.pyplot as plt\n",
    "%matplotlib inline\n",
    "fig = plt.figure()\n",
    "#ax1 = fig.add_subplot(515)\n",
    "#plt.scatter(1.0, 1.0) \n",
    "n = np.arange(1, len(p))\n",
    "#plt.plot(p)"
   ]
  },
  {
   "cell_type": "code",
   "execution_count": null,
   "metadata": {},
   "outputs": [],
   "source": []
  },
  {
   "cell_type": "code",
   "execution_count": null,
   "metadata": {},
   "outputs": [],
   "source": []
  }
 ],
 "metadata": {
  "kernelspec": {
   "display_name": "Python 3",
   "language": "python",
   "name": "python3"
  },
  "language_info": {
   "codemirror_mode": {
    "name": "ipython",
    "version": 3
   },
   "file_extension": ".py",
   "mimetype": "text/x-python",
   "name": "python",
   "nbconvert_exporter": "python",
   "pygments_lexer": "ipython3",
   "version": "3.7.0"
  }
 },
 "nbformat": 4,
 "nbformat_minor": 2
}
