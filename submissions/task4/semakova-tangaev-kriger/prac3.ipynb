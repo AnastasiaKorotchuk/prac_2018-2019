{
 "cells": [
  {
   "cell_type": "code",
   "execution_count": 1,
   "metadata": {},
   "outputs": [],
   "source": [
    "import numpy as np\n",
    "import pandas as pd"
   ]
  },
  {
   "cell_type": "code",
   "execution_count": 2,
   "metadata": {},
   "outputs": [],
   "source": [
    "def check(st, answ_s):\n",
    "    for i in answ_s.index:\n",
    "        if answ_s.loc[i, 'apple'] != st.loc[i, 'apple']:\n",
    "            print('Error: ', i, ' ', answ_s.loc[i, 'apple'], ' ', st.loc[i, 'apple'])\n",
    "        if answ_s.loc[i, 'pen'] != st.loc[i, 'pen']:\n",
    "            print('Error: ', i, ' ', answ_s.loc[i, 'pen'], ' ', st.loc[i, 'pen'])"
   ]
  },
  {
   "cell_type": "code",
   "execution_count": 3,
   "metadata": {},
   "outputs": [],
   "source": [
    "def day_sell(sell):       \n",
    "    df = pd.DataFrame(columns=['apple or pen'])\n",
    "    df['apple or pen'] = sell['sku_num'].apply(lambda x: 'apple' if x.find('ap') == 6 else 'pen') # Ставит вместо транзакции apple/pen\n",
    "    newdf = pd.crosstab(df.index, df['apple or pen'])    # Новая таблица со столбцами apple, pen, в строках количество за каждый день    \n",
    "    ds = pd.DataFrame(columns=['apple', 'pen'], index=newdf.index) \n",
    "    ds['apple'] = -newdf['apple'].values  # Приводим к нормальному виду вроде\n",
    "    ds['pen'] = -newdf['pen'].values\n",
    "    return ds"
   ]
  },
  {
   "cell_type": "code",
   "execution_count": 4,
   "metadata": {},
   "outputs": [],
   "source": [
    "# №1\n",
    "def day_store(d_sell, supply):  \n",
    "    df = pd.concat([supply, d_sell]).sort_index()   # Объединяет 2 таблицы \n",
    "    df = df.resample('D').sum()       # Группирует по дням и суммирует (если в день была и поставка и продажа)\n",
    "    df['apple'] = df['apple'].rolling(str(df.index.size) + 'D').sum()   # ???Чтобы сложить по месяцам\n",
    "    df['pen'] = df['pen'].rolling(str(df.index.size) + 'D').sum()\n",
    "    return df"
   ]
  },
  {
   "cell_type": "code",
   "execution_count": 5,
   "metadata": {},
   "outputs": [],
   "source": [
    "# №2\n",
    "def stolen(d_sell, supply, inventory):\n",
    "    m_sell = d_sell.resample('M').sum()    # Группирует по месяцам и суммирует \n",
    "    m_supply = supply.resample('M').sum()\n",
    "    \n",
    "    stole = pd.DataFrame(columns=['apple', 'pen'], index=m_sell.index) # Сколько товара должно оставаться на складе\n",
    "    stole['apple'] = m_supply['apple'] + m_sell['apple'] \n",
    "    stole['pen'] = m_supply['pen'] + m_sell['pen'] \n",
    "    \n",
    "    res = pd.DataFrame(columns=['apple', 'pen'], index=inventory.index) # Сколько на самом деле остаётся\n",
    "    res['apple'] = inventory['apple'] - inventory['apple'].shift(1) # Разница между месяцами\n",
    "    res['pen'] = inventory['pen'] - inventory['pen'].shift(1)       # shift(1) - смещение на 1\n",
    "    res.loc[res.index[0], ['apple', 'pen']] = inventory.loc[inventory.index[0], 'apple'], inventory.loc[inventory.index[0], 'pen']\n",
    "    # loc - чтобы обращаться по строке и столбцу\n",
    "    stole['apple'] -= res['apple']\n",
    "    stole['pen'] -= res['pen']\n",
    "    return stole\n"
   ]
  },
  {
   "cell_type": "code",
   "execution_count": 6,
   "metadata": {},
   "outputs": [],
   "source": [
    "def filename(state, n):\n",
    "    sn = chr(ord('0') + n)\n",
    "    inv = pd.read_csv('./out/input/MS-' + state + sn + '-inventory.csv', index_col='date', parse_dates=True)\n",
    "    sup = pd.read_csv('./out/input/MS-' + state + sn + '-supply.csv', index_col='date', parse_dates=True)\n",
    "    sell = pd.read_csv('./out/input/MS-' + state + sn + '-sell.csv', index_col='date', parse_dates=True)\n",
    "    return inv, sup, sell\n",
    "    "
   ]
  },
  {
   "cell_type": "code",
   "execution_count": 7,
   "metadata": {},
   "outputs": [],
   "source": [
    "def ansname(state, n):\n",
    "    sn = chr(ord('0') + n)\n",
    "    ans = pd.read_csv('./out/answer/MS-' + state + sn + '-steal.csv', index_col='date', parse_dates=True)\n",
    "    return ans"
   ]
  },
  {
   "cell_type": "code",
   "execution_count": 8,
   "metadata": {},
   "outputs": [],
   "source": [
    "state = ['b', 'm', 's']\n",
    "store = [2, 2, 5]"
   ]
  },
  {
   "cell_type": "code",
   "execution_count": 9,
   "metadata": {},
   "outputs": [],
   "source": [
    "data_inv = []\n",
    "data_sup = []\n",
    "data_sell = []\n",
    "for i in range(3):\n",
    "    data_inv.append([])\n",
    "    data_sup.append([])\n",
    "    data_sell.append([])\n",
    "    for j in range(1, store[i] + 1):\n",
    "        a, b, c = filename(state[i], j)\n",
    "        data_inv[i].append(a)\n",
    "        data_sup[i].append(b)\n",
    "        data_sell[i].append(c)\n"
   ]
  },
  {
   "cell_type": "code",
   "execution_count": 10,
   "metadata": {},
   "outputs": [],
   "source": [
    "d_s = []\n",
    "st = []\n",
    "steal = []\n",
    "for i in range(3):\n",
    "    d_s.append([])\n",
    "    st.append([])\n",
    "    steal.append([])\n",
    "    for j in range(0, store[i]):\n",
    "        ds = day_sell(data_sell[i][j])\n",
    "        s = day_store(ds, data_sup[i][j])\n",
    "        ste = stolen(ds, data_sup[i][j], data_inv[i][j])\n",
    "        d_s[i].append(ds)\n",
    "        st[i].append(s)\n",
    "        steal[i].append(ste)\n"
   ]
  },
  {
   "cell_type": "code",
   "execution_count": 11,
   "metadata": {},
   "outputs": [
    {
     "data": {
      "text/html": [
       "<div>\n",
       "<style scoped>\n",
       "    .dataframe tbody tr th:only-of-type {\n",
       "        vertical-align: middle;\n",
       "    }\n",
       "\n",
       "    .dataframe tbody tr th {\n",
       "        vertical-align: top;\n",
       "    }\n",
       "\n",
       "    .dataframe thead th {\n",
       "        text-align: right;\n",
       "    }\n",
       "</style>\n",
       "<table border=\"1\" class=\"dataframe\">\n",
       "  <thead>\n",
       "    <tr style=\"text-align: right;\">\n",
       "      <th></th>\n",
       "      <th>apple</th>\n",
       "      <th>pen</th>\n",
       "    </tr>\n",
       "    <tr>\n",
       "      <th>row_0</th>\n",
       "      <th></th>\n",
       "      <th></th>\n",
       "    </tr>\n",
       "  </thead>\n",
       "  <tbody>\n",
       "    <tr>\n",
       "      <th>2006-01-31</th>\n",
       "      <td>10.0</td>\n",
       "      <td>11.0</td>\n",
       "    </tr>\n",
       "    <tr>\n",
       "      <th>2006-02-28</th>\n",
       "      <td>6.0</td>\n",
       "      <td>6.0</td>\n",
       "    </tr>\n",
       "    <tr>\n",
       "      <th>2006-03-31</th>\n",
       "      <td>7.0</td>\n",
       "      <td>6.0</td>\n",
       "    </tr>\n",
       "    <tr>\n",
       "      <th>2006-04-30</th>\n",
       "      <td>6.0</td>\n",
       "      <td>14.0</td>\n",
       "    </tr>\n",
       "    <tr>\n",
       "      <th>2006-05-31</th>\n",
       "      <td>8.0</td>\n",
       "      <td>1.0</td>\n",
       "    </tr>\n",
       "  </tbody>\n",
       "</table>\n",
       "</div>"
      ],
      "text/plain": [
       "            apple   pen\n",
       "row_0                  \n",
       "2006-01-31   10.0  11.0\n",
       "2006-02-28    6.0   6.0\n",
       "2006-03-31    7.0   6.0\n",
       "2006-04-30    6.0  14.0\n",
       "2006-05-31    8.0   1.0"
      ]
     },
     "execution_count": 11,
     "metadata": {},
     "output_type": "execute_result"
    }
   ],
   "source": [
    "steal[0][0].head()"
   ]
  },
  {
   "cell_type": "code",
   "execution_count": 17,
   "metadata": {},
   "outputs": [
    {
     "name": "stdout",
     "output_type": "stream",
     "text": [
      "     state  apple_sold  apple_stolen  pen_sold  pen_stolen\n",
      "date                                                      \n",
      "2006     b     1362682           156    105110         182\n",
      "2006     s      169412           132     18167         121\n",
      "2006     m      619912           130     32356         158\n",
      "2007     b     1362562           136    103878         152\n",
      "2007     s      168868           117     18474          90\n",
      "2007     m      618954           124     32378         104\n",
      "2008     b     1370220           156    104064         146\n",
      "2008     s      171013            93     18251         120\n",
      "2008     m      622326           134     32282         116\n",
      "2009     b     1364592           162    104822         192\n",
      "2009     s      168752           143     18211         130\n",
      "2009     m      619158           128     32376         132\n",
      "2010     s      169077           156     18451         133\n",
      "2010     m      619888           126     31872         116\n",
      "2010     b     1360822           136    105200         192\n",
      "2011     m      619368           124     31746         132\n",
      "2011     b     1366166           176    104206         200\n",
      "2011     s      169326           136     18206         120\n",
      "2012     m      619796           114     32442         108\n",
      "2012     b     1370014           164    105156         182\n",
      "2012     s      170230           103     18200         131\n",
      "2013     m      622272           112     32358         134\n",
      "2013     b     1366802           148    104266         180\n",
      "2013     s      168827           101     17872         130\n",
      "2014     s      169078           117     17993         141\n",
      "2014     m      619614           136     32424         126\n",
      "2014     b     1364742           180    104270         174\n",
      "2015     m      618992           102     31916         116\n",
      "2015     b     1363526           154    103608         154\n",
      "2015     s      169979           114     18038         125\n"
     ]
    }
   ],
   "source": [
    "agr_stolen = {}\n",
    "agr_sold = {}\n",
    "agr_all = {}\n",
    "\n",
    "for state_index in range(3):\n",
    "    #Создаем датафреймы для агрегирования товаров по годам\n",
    "    agr_stolen[state_index] = pd.DataFrame(columns = ['apple', 'pen'])\n",
    "    agr_sold[state_index] = pd.DataFrame(columns = ['apple', 'pen'])\n",
    "    \n",
    "    for store_index in range(store[state_index]):\n",
    "        #Собираем данные о товарах по штату, группируем по году\n",
    "        agr_stolen[state_index] = pd.concat([agr_stolen[state_index], steal[state_index][store_index]]).resample('Y').sum()\n",
    "        #к пустой таблице присоединяем данные по каждому штату[магазину]\n",
    "        agr_sold[state_index] = pd.concat([agr_sold[state_index], d_s[state_index][store_index]]).resample('Y').sum()\n",
    "    #Переименовываем столбцы\n",
    "    agr_stolen[state_index] = agr_stolen[state_index].rename(columns = {'apple': 'apple_stolen', 'pen': 'pen_stolen'})\n",
    "    agr_sold[state_index] = agr_sold[state_index].rename(columns = {'apple': 'apple_sold', 'pen': 'pen_sold'})\n",
    "    #Соединяем таблицы с данными о проданных и украденных товарах\n",
    "    agr_all[state_index] = pd.merge(agr_sold[state_index], agr_stolen[state_index], left_index=True, right_index=True)\n",
    "    \n",
    "    agr_all[state_index]['apple_sold'] = abs(agr_all[state_index]['apple_sold']) \n",
    "    agr_all[state_index]['pen_sold'] = abs(agr_all[state_index]['pen_sold'])\n",
    "    agr_all[state_index]['apple_stolen'] = agr_all[state_index]['apple_stolen'].apply(lambda x: int(x))\n",
    "    agr_all[state_index]['pen_stolen'] = agr_all[state_index]['pen_stolen'].apply(lambda x: int(x))\n",
    "    #Добавляем информацию о штате\n",
    "    agr_all[state_index]['state'] = pd.Series([state[state_index]] * len(agr_all[state_index].index), index=agr_all[state_index].index)\n",
    "    cols = ['state', 'apple_sold', 'apple_stolen', 'pen_sold', 'pen_stolen'] \n",
    "    agr_all[state_index] = agr_all[state_index][cols] #Меняем порядок столбцов\n",
    "#Соединяем данные по штатам в одну таблицу\n",
    "agregated = pd.concat([agr_all[0], agr_all[1], agr_all[2]]).sort_index()\n",
    "agregated.index.name = 'date'\n",
    "agregated.index = agregated.index.year\n",
    "\n",
    "print(agregated)\n"
   ]
  },
  {
   "cell_type": "code",
   "execution_count": 13,
   "metadata": {},
   "outputs": [],
   "source": [
    "for i in range(3):\n",
    "    for j in range(1, store[i] + 1):\n",
    "        answ = ansname(state[i], j)\n",
    "        check(steal[i][j-1], answ)"
   ]
  },
  {
   "cell_type": "code",
   "execution_count": null,
   "metadata": {},
   "outputs": [],
   "source": []
  },
  {
   "cell_type": "code",
   "execution_count": null,
   "metadata": {},
   "outputs": [],
   "source": []
  },
  {
   "cell_type": "code",
   "execution_count": null,
   "metadata": {},
   "outputs": [],
   "source": []
  },
  {
   "cell_type": "code",
   "execution_count": null,
   "metadata": {},
   "outputs": [],
   "source": []
  }
 ],
 "metadata": {
  "kernelspec": {
   "display_name": "Python 3",
   "language": "python",
   "name": "python3"
  },
  "language_info": {
   "codemirror_mode": {
    "name": "ipython",
    "version": 3
   },
   "file_extension": ".py",
   "mimetype": "text/x-python",
   "name": "python",
   "nbconvert_exporter": "python",
   "pygments_lexer": "ipython3",
   "version": "3.6.5"
  }
 },
 "nbformat": 4,
 "nbformat_minor": 2
}
